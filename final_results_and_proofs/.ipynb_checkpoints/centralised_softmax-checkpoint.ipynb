{
 "cells": [
  {
   "cell_type": "code",
   "execution_count": 1,
   "id": "4ec4081f",
   "metadata": {},
   "outputs": [],
   "source": [
    "from typing import Tuple\n",
    "import numpy as np\n",
    "XY = Tuple[np.ndarray, np.ndarray]\n",
    "from sklearn.linear_model import LogisticRegression"
   ]
  },
  {
   "cell_type": "code",
   "execution_count": 2,
   "id": "e684c1a5",
   "metadata": {},
   "outputs": [],
   "source": [
    "Dataset = Tuple[XY, XY]\n",
    "def load_mnist() -> Dataset:\n",
    "    \"\"\"Loads the MNIST dataset using OpenML.\n",
    "\n",
    "    OpenML dataset link: https://www.openml.org/d/554\n",
    "    \"\"\"\n",
    "    mnist_openml = openml.datasets.get_dataset(554)\n",
    "    Xy, _, _, _ = mnist_openml.get_data(dataset_format=\"array\")\n",
    "    X = Xy[:, :-1]  # the last column contains labels\n",
    "    y = Xy[:, -1]\n",
    "    # First 60000 samples consist of the train set\n",
    "    x_train, y_train = X[:60000], y[:60000]\n",
    "    x_test, y_test = X[60000:], y[60000:]\n",
    "    return (x_train, y_train), (x_test, y_test)"
   ]
  },
  {
   "cell_type": "code",
   "execution_count": 3,
   "id": "782b4613",
   "metadata": {},
   "outputs": [],
   "source": [
    "from typing import Tuple\n",
    "import openml\n",
    "Dataset = Tuple[XY, XY]\n",
    "def load_mnist() -> Dataset:\n",
    "    \"\"\"Loads the MNIST dataset using OpenML.\n",
    "\n",
    "    OpenML dataset link: https://www.openml.org/d/554\n",
    "    \"\"\"\n",
    "    mnist_openml = openml.datasets.get_dataset(554)\n",
    "    Xy, _, _, _ = mnist_openml.get_data(dataset_format=\"array\")\n",
    "    X = Xy[:, :-1]  # the last column contains labels\n",
    "    y = Xy[:, -1]\n",
    "    # First 60000 samples consist of the train set\n",
    "    x_train, y_train = X[:60000], y[:60000]\n",
    "    x_test, y_test = X[60000:], y[60000:]\n",
    "    return (x_train, y_train), (x_test, y_test)"
   ]
  },
  {
   "cell_type": "code",
   "execution_count": 4,
   "id": "a18e5453",
   "metadata": {},
   "outputs": [],
   "source": [
    "import numpy as np\n",
    "from typing import Tuple\n",
    "XY = Tuple[np.ndarray, np.ndarray]\n",
    "\n",
    "def shuffle(X: np.ndarray, y: np.ndarray) -> XY:\n",
    "    \"\"\"Shuffle X and y.\"\"\"\n",
    "    rng = np.random.default_rng()\n",
    "    idx = rng.permutation(len(X))\n",
    "    return X[idx], y[idx]"
   ]
  },
  {
   "cell_type": "code",
   "execution_count": 5,
   "id": "e18c516c",
   "metadata": {},
   "outputs": [],
   "source": [
    "from typing import List\n",
    "XYList = List[XY]\n",
    "def partition(X: np.ndarray, y: np.ndarray, num_partitions: int) -> XYList:\n",
    "    \"\"\"Split X and y into a number of partitions.\"\"\"\n",
    "    X,y =shuffle(X,y) #shuffle\n",
    "    return list(\n",
    "        zip(np.array_split(X, num_partitions), np.array_split(y, num_partitions))\n",
    "    )"
   ]
  },
  {
   "cell_type": "code",
   "execution_count": 6,
   "id": "e4433ef4",
   "metadata": {},
   "outputs": [],
   "source": [
    "accuracy = []"
   ]
  },
  {
   "cell_type": "code",
   "execution_count": 7,
   "id": "c32dad76",
   "metadata": {},
   "outputs": [],
   "source": [
    "(X_train, y_train), (X_test, y_test) = load_mnist()"
   ]
  },
  {
   "cell_type": "code",
   "execution_count": 8,
   "id": "f00b6058",
   "metadata": {},
   "outputs": [
    {
     "name": "stderr",
     "output_type": "stream",
     "text": [
      "/home/prem/.local/lib/python3.9/site-packages/sklearn/linear_model/_logistic.py:814: ConvergenceWarning: lbfgs failed to converge (status=1):\n",
      "STOP: TOTAL NO. of ITERATIONS REACHED LIMIT.\n",
      "\n",
      "Increase the number of iterations (max_iter) or scale the data as shown in:\n",
      "    https://scikit-learn.org/stable/modules/preprocessing.html\n",
      "Please also refer to the documentation for alternative solver options:\n",
      "    https://scikit-learn.org/stable/modules/linear_model.html#logistic-regression\n",
      "  n_iter_i = _check_optimize_result(\n"
     ]
    }
   ],
   "source": [
    "for i in range(1):\n",
    "    (X_train, y_train), (X_test, y_test) = load_mnist()\n",
    "    partition_id = np.random.choice(100)\n",
    "    (X_train, y_train) = partition(X_train, y_train, 100)[partition_id]\n",
    "    model = LogisticRegression(\n",
    "        multi_class = 'multinomial',\n",
    "        penalty=\"l2\",\n",
    "        max_iter= 2,  # local epoch\n",
    "        warm_start=True,  # prevent refreshing weights when fitting\n",
    "    )\n",
    "\n",
    "    model.fit(X_train, y_train)\n",
    "    accuracy.append(model.score(X_test,y_test))"
   ]
  },
  {
   "cell_type": "code",
   "execution_count": 9,
   "id": "75995f67",
   "metadata": {},
   "outputs": [
    {
     "data": {
      "text/plain": [
       "[0.6626]"
      ]
     },
     "execution_count": 9,
     "metadata": {},
     "output_type": "execute_result"
    }
   ],
   "source": [
    "accuracy"
   ]
  }
 ],
 "metadata": {
  "kernelspec": {
   "display_name": "Python 3 (ipykernel)",
   "language": "python",
   "name": "python3"
  },
  "language_info": {
   "codemirror_mode": {
    "name": "ipython",
    "version": 3
   },
   "file_extension": ".py",
   "mimetype": "text/x-python",
   "name": "python",
   "nbconvert_exporter": "python",
   "pygments_lexer": "ipython3",
   "version": "3.9.2"
  }
 },
 "nbformat": 4,
 "nbformat_minor": 5
}
