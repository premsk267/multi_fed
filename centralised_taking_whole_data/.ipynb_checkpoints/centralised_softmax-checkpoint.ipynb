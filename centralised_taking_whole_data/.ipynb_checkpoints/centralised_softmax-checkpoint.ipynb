{
 "cells": [
  {
   "cell_type": "code",
   "execution_count": 1,
   "id": "4ec4081f",
   "metadata": {},
   "outputs": [],
   "source": [
    "from typing import Tuple\n",
    "import numpy as np\n",
    "XY = Tuple[np.ndarray, np.ndarray]\n",
    "from sklearn.linear_model import LogisticRegression\n",
    "import openml"
   ]
  },
  {
   "cell_type": "code",
   "execution_count": 2,
   "id": "e684c1a5",
   "metadata": {},
   "outputs": [],
   "source": [
    "Dataset = Tuple[XY, XY]\n",
    "def load_mnist() -> Dataset:\n",
    "    \"\"\"Loads the MNIST dataset using OpenML.\n",
    "\n",
    "    OpenML dataset link: https://www.openml.org/d/554\n",
    "    \"\"\"\n",
    "    mnist_openml = openml.datasets.get_dataset(554)\n",
    "    Xy, _, _, _ = mnist_openml.get_data(dataset_format=\"array\")\n",
    "    X = Xy[:, :-1]  # the last column contains labels\n",
    "    y = Xy[:, -1]\n",
    "    # First 60000 samples consist of the train set\n",
    "    x_train, y_train = X[:60000], y[:60000]\n",
    "    x_test, y_test = X[60000:], y[60000:]\n",
    "    return (x_train, y_train), (x_test, y_test)"
   ]
  },
  {
   "cell_type": "code",
   "execution_count": 3,
   "id": "e4433ef4",
   "metadata": {},
   "outputs": [],
   "source": [
    "accuracy = []"
   ]
  },
  {
   "cell_type": "code",
   "execution_count": 4,
   "id": "c32dad76",
   "metadata": {},
   "outputs": [],
   "source": [
    "(X_train, y_train), (X_test, y_test) = load_mnist()"
   ]
  },
  {
   "cell_type": "code",
   "execution_count": 20,
   "id": "9620580a",
   "metadata": {
    "scrolled": true
   },
   "outputs": [
    {
     "name": "stderr",
     "output_type": "stream",
     "text": [
      "/home/prem/.local/lib/python3.9/site-packages/sklearn/linear_model/_logistic.py:814: ConvergenceWarning: lbfgs failed to converge (status=1):\n",
      "STOP: TOTAL NO. of ITERATIONS REACHED LIMIT.\n",
      "\n",
      "Increase the number of iterations (max_iter) or scale the data as shown in:\n",
      "    https://scikit-learn.org/stable/modules/preprocessing.html\n",
      "Please also refer to the documentation for alternative solver options:\n",
      "    https://scikit-learn.org/stable/modules/linear_model.html#logistic-regression\n",
      "  n_iter_i = _check_optimize_result(\n"
     ]
    }
   ],
   "source": [
    "for i in range(1):\n",
    "    (X_train, y_train), (X_test, y_test) = load_mnist()\n",
    "    #partition_id = np.random.choice(100)\n",
    "    #(X_train, y_train) = partition(X_train, y_train, 100)[partition_id]\n",
    "    model = LogisticRegression(\n",
    "        multi_class = 'multinomial',\n",
    "        penalty=\"l2\",\n",
    "        max_iter= 200,  # local epoch\n",
    "        #warm_start=True,  # prevent refreshing weights when fitting\n",
    "    )\n",
    "\n",
    "    model.fit(X_train, y_train)\n",
    "    accuracy.append(model.score(X_test,y_test))"
   ]
  },
  {
   "cell_type": "code",
   "execution_count": 21,
   "id": "81a69bf5",
   "metadata": {
    "scrolled": false
   },
   "outputs": [
    {
     "data": {
      "text/plain": [
       "[0.6804, 0.8503, 0.7253, 0.8888, 0.9141, 0.9184, 0.919, 0.9218, 0.9221]"
      ]
     },
     "execution_count": 21,
     "metadata": {},
     "output_type": "execute_result"
    }
   ],
   "source": [
    "accuracy #max - iteration 1 , 5 , 2 , 10 , 20 , 25 , 30 , 50 , 200"
   ]
  },
  {
   "cell_type": "code",
   "execution_count": null,
   "id": "9710104a",
   "metadata": {},
   "outputs": [],
   "source": []
  }
 ],
 "metadata": {
  "kernelspec": {
   "display_name": "Python 3 (ipykernel)",
   "language": "python",
   "name": "python3"
  },
  "language_info": {
   "codemirror_mode": {
    "name": "ipython",
    "version": 3
   },
   "file_extension": ".py",
   "mimetype": "text/x-python",
   "name": "python",
   "nbconvert_exporter": "python",
   "pygments_lexer": "ipython3",
   "version": "3.9.2"
  }
 },
 "nbformat": 4,
 "nbformat_minor": 5
}
